{
  "nbformat": 4,
  "nbformat_minor": 0,
  "metadata": {
    "colab": {
      "provenance": []
    },
    "kernelspec": {
      "name": "python3",
      "display_name": "Python 3"
    },
    "language_info": {
      "name": "python"
    }
  },
  "cells": [
    {
      "cell_type": "code",
      "execution_count": 1,
      "metadata": {
        "id": "Obhxi-n0ykoC"
      },
      "outputs": [],
      "source": [
        "import numpy as np\n",
        "def text_to_nibbles(text):\n",
        "    binary_output = bin(int(text, 16))[2:]\n",
        "    nibble_length = len(binary_output) % 4\n",
        "    if nibble_length > 0:\n",
        "        binary_output = '0' * (4 - nibble_length) + binary_output\n",
        "    nibbles = [binary_output[i:i+4] for i in range(0, len(binary_output), 4)]\n",
        "    while len(nibbles) < 4 :\n",
        "       nibbles.insert(0, '0000')\n",
        "    return nibbles\n",
        "\n",
        "def arrange_in_matrix(nibbles):\n",
        "    m1 =[]\n",
        "    m2 =[]\n",
        "    matrix=[]\n",
        "    m1.append(nibbles[0])\n",
        "    m1.append(nibbles[2])\n",
        "    m2.append(nibbles[1])\n",
        "    m2.append(nibbles[3])\n",
        "    matrix.append(m1)\n",
        "    matrix.append(m2)\n",
        "    return matrix\n",
        "\n"
      ]
    },
    {
      "cell_type": "code",
      "execution_count": 2,
      "metadata": {
        "id": "lppDj2_M4AUa"
      },
      "outputs": [],
      "source": [
        "def ShiftRows(mat) :\n",
        "  matrix= np.array(mat)\n",
        "  matrix[0][0], matrix[0][1] = matrix[0][1], matrix[0][0]\n",
        "  return matrix"
      ]
    },
    {
      "cell_type": "code",
      "execution_count": 3,
      "metadata": {
        "id": "IVcNn1kO0BZZ"
      },
      "outputs": [],
      "source": [
        "def substitute(matrix):\n",
        "    S = []\n",
        "    for row in matrix:\n",
        "        s1 = []\n",
        "        for element in row:\n",
        "            s1.append(SubNibbles(element))\n",
        "        S.append(s1)\n",
        "    return np.array(S)\n"
      ]
    },
    {
      "cell_type": "code",
      "execution_count": 4,
      "metadata": {
        "id": "Teew5AN7DmK3"
      },
      "outputs": [],
      "source": [
        "def SubNibbles(nibble) :\n",
        "    Substitution1 = [\"0000\", \"0001\", \"0010\", \"0011\", \"0100\", \"0101\", \"0110\", \"0111\", \"1000\", \"1001\", \"1010\", \"1011\", \"1100\", \"1101\", \"1110\", \"1111\"]\n",
        "    Substitution2 = [\"1010\", \"0000\", \"1001\", \"1110\", \"0110\", \"0011\", \"1111\", \"0101\", \"0001\", \"1101\", \"1100\", \"0111\", \"1011\", \"0100\", \"0010\", \"1000\"]\n",
        "    ind = Substitution1.index(nibble)\n",
        "    return Substitution2[ind]\n",
        "\n"
      ]
    },
    {
      "cell_type": "code",
      "execution_count": 5,
      "metadata": {
        "id": "Nq_2nBvwI-vj"
      },
      "outputs": [],
      "source": [
        "def zero_pad(bin):\n",
        " return bin.zfill(4)"
      ]
    },
    {
      "cell_type": "code",
      "execution_count": 6,
      "metadata": {
        "id": "FwSmh1Nfq4Gc"
      },
      "outputs": [],
      "source": [
        "def MixColumns(mat) :\n",
        "  M= [[1,4],\n",
        "      [4,1]]\n",
        "\n",
        "  c0 = int(mat[0][0],2)\n",
        "  c1 = int(mat[1][0],2)\n",
        "  c2 = int(mat[0][1],2)\n",
        "  c3 = int(mat[1][1],2)\n",
        "\n",
        "  d0 = finite_field_multiply(M[0][0], c0) ^ finite_field_multiply(M[0][1], c1)\n",
        "  d1 = finite_field_multiply(M[1][0], c0) ^ finite_field_multiply(M[1][1], c1)\n",
        "  d2 = finite_field_multiply(M[0][0], c2) ^ finite_field_multiply(M[0][1], c3)\n",
        "  d3 = finite_field_multiply(M[1][0], c2) ^ finite_field_multiply(M[1][1], c3)\n",
        "  return np.array([[bin(d0)[2:].zfill(4),bin(d2)[2:].zfill(4)],[bin(d1)[2:].zfill(4),bin(d3)[2:].zfill(4)]])\n"
      ]
    },
    {
      "cell_type": "code",
      "execution_count": 7,
      "metadata": {
        "id": "AfC4Mb1ZrHOh"
      },
      "outputs": [],
      "source": [
        "def LeastSignificantBit(x):\n",
        "    return x & 1\n",
        "\n",
        "def FourthBitSet(x):\n",
        "    return (x >> 4) & 1\n",
        "\n",
        "def finite_field_multiply(a, b):\n",
        "    m = 0\n",
        "\n",
        "    while b > 0:\n",
        "        if LeastSignificantBit(b) == 1:\n",
        "            m ^= a\n",
        "\n",
        "        a = (a << 1)\n",
        "\n",
        "        if FourthBitSet(a):\n",
        "            a ^= 19\n",
        "\n",
        "        b >>= 1\n",
        "\n",
        "    return m\n"
      ]
    },
    {
      "cell_type": "code",
      "execution_count": 8,
      "metadata": {
        "id": "xzAq0-uLATPY"
      },
      "outputs": [],
      "source": [
        "def GenerateRoundKeys(key) :\n",
        "  K0 = key\n",
        "  k1 = []\n",
        "  K2 = []\n",
        "\n",
        "  Rcon1 = \"1110\"\n",
        "  Rcon2 =  \"1010\"\n",
        "\n",
        "  w0 = key[0][0]\n",
        "  w1 = key[1][0]\n",
        "  w2 = key[0][1]\n",
        "  w3 = key[1][1]\n",
        "\n",
        "  w4 = zero_pad(bin(int(w0, 2) ^ int(SubNibbles(w3), 2) ^ int(Rcon1, 2))[2:])\n",
        "  w5 = zero_pad(bin(int(w1, 2) ^ int(w4, 2))[2:])\n",
        "  w6 = zero_pad(bin(int(w2, 2) ^ int(w5, 2))[2:])\n",
        "  w7 = zero_pad(bin(int(w3, 2) ^ int(w6, 2))[2:])\n",
        "  w8 = zero_pad(bin(int(w4, 2) ^ int(SubNibbles(w7),2) ^ int(Rcon2, 2))[2:])\n",
        "  w9 = zero_pad(bin(int(w5, 2) ^ int(w8, 2))[2:])\n",
        "  w10 = zero_pad(bin(int(w6, 2) ^ int(w9, 2))[2:])\n",
        "  w11 = zero_pad(bin(int(w7, 2) ^ int(w10, 2))[2:])\n",
        "\n",
        "  K1 = np.array([[w4,w6],[w5,w7]])\n",
        "  K2 = np.array([[w8,w10],[w9,w11]])\n",
        "\n",
        "  KEYS = []\n",
        "  # KEYS.append(K0)\n",
        "  KEYS.append(K1)\n",
        "  KEYS.append(K2)\n",
        "\n",
        "  return KEYS\n"
      ]
    },
    {
      "cell_type": "code",
      "execution_count": 9,
      "metadata": {
        "id": "QJx1tCkz5o14"
      },
      "outputs": [],
      "source": [
        "def binary_to_hex(binary_str):\n",
        "    decimal_int = int(binary_str, 2)\n",
        "    hex_str = hex(decimal_int)[2:]\n",
        "    return hex_str\n",
        "\n",
        "def HexIt(binary_matrix) :\n",
        "  hex = [[binary_to_hex(binary) for binary in row] for row in binary_matrix]\n",
        "  return str(str(hex[0][0]) + str(hex[1][0]) + str(hex[0][1]) + str(hex[1][1]))\n",
        "\n"
      ]
    },
    {
      "cell_type": "code",
      "source": [
        "def SubNibblesInverse(nibble) :\n",
        "    Substitution2 = [\"0000\", \"0001\", \"0010\", \"0011\", \"0100\", \"0101\", \"0110\", \"0111\", \"1000\", \"1001\", \"1010\", \"1011\", \"1100\", \"1101\", \"1110\", \"1111\"]\n",
        "    Substitution1 = [\"1010\", \"0000\", \"1001\", \"1110\", \"0110\", \"0011\", \"1111\", \"0101\", \"0001\", \"1101\", \"1100\", \"0111\", \"1011\", \"0100\", \"0010\", \"1000\"]\n",
        "    ind = Substitution1.index(nibble)\n",
        "    return Substitution2[ind]"
      ],
      "metadata": {
        "id": "VSO4avjnA6p9"
      },
      "execution_count": 10,
      "outputs": []
    },
    {
      "cell_type": "code",
      "source": [
        "def MixColumnsInverse(mat) :\n",
        "  M= [[9,2],\n",
        "      [2,9]]\n",
        "\n",
        "  c0 = int(mat[0][0],2)\n",
        "  c1 = int(mat[1][0],2)\n",
        "  c2 = int(mat[0][1],2)\n",
        "  c3 = int(mat[1][1],2)\n",
        "\n",
        "  d0 = finite_field_multiply(M[0][0], c0) ^ finite_field_multiply(M[0][1], c1)\n",
        "  d1 = finite_field_multiply(M[1][0], c0) ^ finite_field_multiply(M[1][1], c1)\n",
        "  d2 = finite_field_multiply(M[0][0], c2) ^ finite_field_multiply(M[0][1], c3)\n",
        "  d3 = finite_field_multiply(M[1][0], c2) ^ finite_field_multiply(M[1][1], c3)\n",
        "  return np.array([[bin(d0)[2:].zfill(4),bin(d2)[2:].zfill(4)],[bin(d1)[2:].zfill(4),bin(d3)[2:].zfill(4)]])"
      ],
      "metadata": {
        "id": "4j1F7_PQBAil"
      },
      "execution_count": 11,
      "outputs": []
    },
    {
      "cell_type": "code",
      "source": [
        "def SubstituteInverse(matrix):\n",
        "    S = []\n",
        "    for row in matrix:\n",
        "        s1 = []\n",
        "        for element in row:\n",
        "            s1.append(SubNibblesInverse(element))\n",
        "        S.append(s1)\n",
        "    return np.array(S)\n"
      ],
      "metadata": {
        "id": "y1fhJYsSBKSB"
      },
      "execution_count": 12,
      "outputs": []
    },
    {
      "cell_type": "code",
      "source": [
        "def Xor(mat, key) :\n",
        " return np.array([[bin(int(mat[0][0],2) ^ int(key[0][0],2))[2:].zfill(4),  bin(int(mat[0][1],2) ^ int(key[0][1],2))[2:].zfill(4)],[bin(int(mat[1][0],2) ^ int(key[1][0],2))[2:].zfill(4),bin(int(mat[1][1],2) ^ int(key[1][1],2))[2:].zfill(4)]])"
      ],
      "metadata": {
        "id": "mJwD33zqJIIt"
      },
      "execution_count": 13,
      "outputs": []
    },
    {
      "cell_type": "code",
      "source": [
        "def Decrypt(matrix_pt,KEYS) :\n",
        "  #Round1\n",
        "  A = ShiftRows(matrix_pt)\n",
        "  B = Xor(A, KEYS[1])\n",
        "  C = SubstituteInverse(B)\n",
        "\n",
        "  #Round2\n",
        "  D= ShiftRows(C)\n",
        "  E= MixColumnsInverse(D)\n",
        "  F= Xor(E,KEYS[0])\n",
        "\n",
        "  G = SubstituteInverse(F)\n",
        "  return HexIt(G)\n",
        "\n"
      ],
      "metadata": {
        "id": "ekh7O7oENisV"
      },
      "execution_count": 14,
      "outputs": []
    },
    {
      "cell_type": "code",
      "source": [
        "def padding(plain_text) :\n",
        "  p = list(plain_text)\n",
        "  while len(p) % 4 != 0 :\n",
        "    p.append('0')\n",
        "  return str(''.join(p))\n"
      ],
      "metadata": {
        "id": "BC-TVl0lPFII"
      },
      "execution_count": 15,
      "outputs": []
    },
    {
      "cell_type": "code",
      "source": [
        "def Encrypt(matrix_pt,KEYS) :\n",
        "  #Round1\n",
        "  A = substitute(matrix_pt);\n",
        "  B = Xor(A, KEYS[0])\n",
        "  C = MixColumns(B)\n",
        "  D = ShiftRows(C)\n",
        "\n",
        "  #Round2\n",
        "  E= substitute(D)\n",
        "  F = Xor(E, KEYS[1])\n",
        "  G= ShiftRows(F)\n",
        "\n",
        "  return HexIt(G)"
      ],
      "metadata": {
        "id": "SKPW4tQAP3jX"
      },
      "execution_count": 16,
      "outputs": []
    },
    {
      "cell_type": "code",
      "source": [
        "def string_to_hex(input_string):\n",
        "    try:\n",
        "        encoded_bytes = input_string.encode('utf-8')\n",
        "        hex_string = encoded_bytes.hex()\n",
        "        return hex_string\n",
        "    except UnicodeEncodeError:\n",
        "        return None"
      ],
      "metadata": {
        "id": "y7XfErL5SSBZ"
      },
      "execution_count": 17,
      "outputs": []
    },
    {
      "cell_type": "code",
      "source": [
        "def Encrypt_Text(plain_text,key):\n",
        "  plain_text_pd = padding(plain_text)\n",
        "  nibbles_pt = text_to_nibbles(plain_text_pd)\n",
        "\n",
        "  nibbles_key = text_to_nibbles(key)\n",
        "\n",
        "  Blocks = []\n",
        "  start = 0\n",
        "  end = 4\n",
        "  for x in range(int(len(nibbles_pt)/4)) :\n",
        "    matrix_pt = np.array(arrange_in_matrix(nibbles_pt[start : end]))\n",
        "    start = end\n",
        "    end  =end +4\n",
        "    Blocks.append(matrix_pt)\n",
        "\n",
        "  matrix_key = np.array(arrange_in_matrix(nibbles_key))\n",
        "  KEYS = GenerateRoundKeys(matrix_key)\n",
        "\n",
        "  Cipher = []\n",
        "  for block in Blocks :\n",
        "    Cipher.append(Encrypt(block, KEYS))\n",
        "\n",
        "  return str(''.join(Cipher))"
      ],
      "metadata": {
        "id": "dLmUUmevS4WS"
      },
      "execution_count": 18,
      "outputs": []
    },
    {
      "cell_type": "code",
      "source": [
        "def hex_to_string(hex_string):\n",
        "    try:\n",
        "        bytes_data = bytes.fromhex(hex_string)\n",
        "        decoded_string = bytes_data.decode('utf-8')\n",
        "        return decoded_string\n",
        "    except ValueError:\n",
        "        return None\n"
      ],
      "metadata": {
        "id": "Lg80IvCHU7oR"
      },
      "execution_count": 19,
      "outputs": []
    },
    {
      "cell_type": "code",
      "source": [
        "def remove_padding(hex_string):\n",
        "    try:\n",
        "        cleaned_hex = hex_string.rstrip('0' * 2)\n",
        "        return cleaned_hex\n",
        "    except ValueError:\n",
        "        return None"
      ],
      "metadata": {
        "id": "teZUv0PlWIzO"
      },
      "execution_count": 20,
      "outputs": []
    },
    {
      "cell_type": "code",
      "source": [
        "def Decrypt_Text(cipher_text,key):\n",
        "  cipher_text_pd = padding(cipher_text)\n",
        "  nibbles_pt = text_to_nibbles(cipher_text_pd)\n",
        "\n",
        "  nibbles_key = text_to_nibbles(key)\n",
        "\n",
        "  Blocks = []\n",
        "  start = 0\n",
        "  end = 4\n",
        "  for x in range(int(len(nibbles_pt)/4)) :\n",
        "    matrix_pt = np.array(arrange_in_matrix(nibbles_pt[start : end]))\n",
        "    start = end\n",
        "    end  =end +4\n",
        "    Blocks.append(matrix_pt)\n",
        "\n",
        "  matrix_key = np.array(arrange_in_matrix(nibbles_key))\n",
        "  KEYS = GenerateRoundKeys(matrix_key)\n",
        "\n",
        "  Plain_text = []\n",
        "  for block in Blocks :\n",
        "    Plain_text.append(Decrypt(block, KEYS))\n",
        "\n",
        "  return remove_padding(str(''.join(Plain_text)))"
      ],
      "metadata": {
        "id": "kVM2s-mBUAl7"
      },
      "execution_count": 21,
      "outputs": []
    },
    {
      "cell_type": "markdown",
      "source": [
        "<h1>Deliverable 3 Main</h1>"
      ],
      "metadata": {
        "id": "FecbIuLLYkRl"
      }
    },
    {
      "cell_type": "code",
      "source": [
        "# Deliverable 3 MAIN   OPTIONAL\n",
        "Plain_text = \"Gentlemen, you can't fight in here. This is the war room.\"\n",
        "file_name = \"secret.txt\"\n",
        "Plain_text= string_to_hex(Plain_text)\n",
        "Key = \"149c\"   # if Key is not in hex, convert it\n",
        "Encrypted_Text = ''\n",
        "if Plain_text is not None and Key is not None:\n",
        "    Encrypted_Text = Encrypt_Text(Plain_text, Key)\n",
        "    with open(file_name, \"w\") as file:\n",
        "      file.write(Encrypted_Text)\n",
        "      print(Encrypted_Text)\n",
        "else:\n",
        "    print(\"Unable to encode the input string.\")\n"
      ],
      "metadata": {
        "colab": {
          "base_uri": "https://localhost:8080/"
        },
        "id": "yds-5Rt7Ss_S",
        "outputId": "b47fe962-71a0-44ea-e068-5f30b8515559"
      },
      "execution_count": 22,
      "outputs": [
        {
          "output_type": "stream",
          "name": "stdout",
          "text": [
            "7995ac7e4d955f95ac93aa15048faa6b310a8b7eaac18826ca7eaa7fac09ca95a9957309f0e98823aa7ff10984e91009bdd3a909a98e044d731f\n"
          ]
        }
      ]
    },
    {
      "cell_type": "code",
      "source": [
        "file_name = \"secret.txt\"\n",
        "Cipher_Text = \"\"\n",
        "Key= \"149c\"\n",
        "try:\n",
        "    with open(file_name, \"r\") as file:\n",
        "        Cipher_Text = file.read()\n",
        "        Cipher_Text = Cipher_Text.replace(\" \", \"\").replace(\"\\t\", \"\").replace(\"\\n\", \"\")\n",
        "except FileNotFoundError:\n",
        "    print(f\"The file '{file_name}' was not found.\")\n",
        "except IOError as e:\n",
        "    print(f\"An error occurred while reading the file: {e}\")\n",
        "\n",
        "try :\n",
        "  if Plain_text is not None and Key is not None:\n",
        "      print(hex_to_string(Decrypt_Text(Cipher_Text, Key)))\n",
        "  else:\n",
        "      print(\"Unable to encode the input string.\")\n",
        "\n",
        "except:\n",
        "  print(\"Incorrect file\")"
      ],
      "metadata": {
        "colab": {
          "base_uri": "https://localhost:8080/"
        },
        "id": "PPkL5AfSY8II",
        "outputId": "3ebfd3f3-8f17-4931-bfe5-76ad49102e5c"
      },
      "execution_count": 24,
      "outputs": [
        {
          "output_type": "stream",
          "name": "stdout",
          "text": [
            "Gentlemen, you can't fight in here. This is the war room.\n"
          ]
        }
      ]
    }
  ]
}