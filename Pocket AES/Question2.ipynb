{
  "nbformat": 4,
  "nbformat_minor": 0,
  "metadata": {
    "colab": {
      "provenance": []
    },
    "kernelspec": {
      "name": "python3",
      "display_name": "Python 3"
    },
    "language_info": {
      "name": "python"
    }
  },
  "cells": [
    {
      "cell_type": "code",
      "execution_count": 1,
      "metadata": {
        "id": "Obhxi-n0ykoC"
      },
      "outputs": [],
      "source": [
        "import numpy as np\n",
        "def text_to_nibbles(text):\n",
        "    binary_output = bin(int(text, 16))[2:]\n",
        "    nibble_length = len(binary_output) % 4\n",
        "    if nibble_length > 0:\n",
        "        binary_output = '0' * (4 - nibble_length) + binary_output\n",
        "    nibbles = [binary_output[i:i+4] for i in range(0, len(binary_output), 4)]\n",
        "    while len(nibbles) < 4 :\n",
        "       nibbles.insert(0, '0000')\n",
        "    return nibbles\n",
        "\n",
        "def arrange_in_matrix(nibbles):\n",
        "    m1 =[]\n",
        "    m2 =[]\n",
        "    matrix=[]\n",
        "    m1.append(nibbles[0])\n",
        "    m1.append(nibbles[2])\n",
        "    m2.append(nibbles[1])\n",
        "    m2.append(nibbles[3])\n",
        "    matrix.append(m1)\n",
        "    matrix.append(m2)\n",
        "    return matrix\n",
        "\n"
      ]
    },
    {
      "cell_type": "code",
      "execution_count": 2,
      "metadata": {
        "id": "lppDj2_M4AUa"
      },
      "outputs": [],
      "source": [
        "def ShiftRows(mat) :\n",
        "  matrix= np.array(mat)\n",
        "  matrix[0][0], matrix[0][1] = matrix[0][1], matrix[0][0]\n",
        "  return matrix"
      ]
    },
    {
      "cell_type": "code",
      "execution_count": 3,
      "metadata": {
        "id": "IVcNn1kO0BZZ"
      },
      "outputs": [],
      "source": [
        "def substitute(matrix):\n",
        "    S = []\n",
        "    for row in matrix:\n",
        "        s1 = []\n",
        "        for element in row:\n",
        "            s1.append(SubNibbles(element))\n",
        "        S.append(s1)\n",
        "    return np.array(S)\n"
      ]
    },
    {
      "cell_type": "code",
      "execution_count": 4,
      "metadata": {
        "id": "Teew5AN7DmK3"
      },
      "outputs": [],
      "source": [
        "def SubNibbles(nibble) :\n",
        "    Substitution1 = [\"0000\", \"0001\", \"0010\", \"0011\", \"0100\", \"0101\", \"0110\", \"0111\", \"1000\", \"1001\", \"1010\", \"1011\", \"1100\", \"1101\", \"1110\", \"1111\"]\n",
        "    Substitution2 = [\"1010\", \"0000\", \"1001\", \"1110\", \"0110\", \"0011\", \"1111\", \"0101\", \"0001\", \"1101\", \"1100\", \"0111\", \"1011\", \"0100\", \"0010\", \"1000\"]\n",
        "    ind = Substitution1.index(nibble)\n",
        "    return Substitution2[ind]\n",
        "\n"
      ]
    },
    {
      "cell_type": "code",
      "execution_count": 5,
      "metadata": {
        "id": "Nq_2nBvwI-vj"
      },
      "outputs": [],
      "source": [
        "def zero_pad(bin):\n",
        " return bin.zfill(4)"
      ]
    },
    {
      "cell_type": "code",
      "execution_count": 6,
      "metadata": {
        "id": "FwSmh1Nfq4Gc"
      },
      "outputs": [],
      "source": [
        "def MixColumns(mat) :\n",
        "  M= [[1,4],\n",
        "      [4,1]]\n",
        "\n",
        "  c0 = int(mat[0][0],2)\n",
        "  c1 = int(mat[1][0],2)\n",
        "  c2 = int(mat[0][1],2)\n",
        "  c3 = int(mat[1][1],2)\n",
        "\n",
        "  d0 = finite_field_multiply(M[0][0], c0) ^ finite_field_multiply(M[0][1], c1)\n",
        "  d1 = finite_field_multiply(M[1][0], c0) ^ finite_field_multiply(M[1][1], c1)\n",
        "  d2 = finite_field_multiply(M[0][0], c2) ^ finite_field_multiply(M[0][1], c3)\n",
        "  d3 = finite_field_multiply(M[1][0], c2) ^ finite_field_multiply(M[1][1], c3)\n",
        "  return np.array([[bin(d0)[2:].zfill(4),bin(d2)[2:].zfill(4)],[bin(d1)[2:].zfill(4),bin(d3)[2:].zfill(4)]])\n"
      ]
    },
    {
      "cell_type": "code",
      "execution_count": 7,
      "metadata": {
        "id": "AfC4Mb1ZrHOh"
      },
      "outputs": [],
      "source": [
        "def LeastSignificantBit(x):\n",
        "    return x & 1\n",
        "\n",
        "def FourthBitSet(x):\n",
        "    return (x >> 4) & 1\n",
        "\n",
        "def finite_field_multiply(a, b):\n",
        "    m = 0\n",
        "\n",
        "    while b > 0:\n",
        "        if LeastSignificantBit(b) == 1:\n",
        "            m ^= a\n",
        "\n",
        "        a = (a << 1)\n",
        "\n",
        "        if FourthBitSet(a):\n",
        "            a ^= 19\n",
        "\n",
        "        b >>= 1\n",
        "\n",
        "    return m\n"
      ]
    },
    {
      "cell_type": "code",
      "execution_count": 8,
      "metadata": {
        "id": "xzAq0-uLATPY"
      },
      "outputs": [],
      "source": [
        "def GenerateRoundKeys(key) :\n",
        "  K0 = key\n",
        "  k1 = []\n",
        "  K2 = []\n",
        "\n",
        "  Rcon1 = \"1110\"\n",
        "  Rcon2 =  \"1010\"\n",
        "\n",
        "  w0 = key[0][0]\n",
        "  w1 = key[1][0]\n",
        "  w2 = key[0][1]\n",
        "  w3 = key[1][1]\n",
        "\n",
        "  w4 = zero_pad(bin(int(w0, 2) ^ int(SubNibbles(w3), 2) ^ int(Rcon1, 2))[2:])\n",
        "  w5 = zero_pad(bin(int(w1, 2) ^ int(w4, 2))[2:])\n",
        "  w6 = zero_pad(bin(int(w2, 2) ^ int(w5, 2))[2:])\n",
        "  w7 = zero_pad(bin(int(w3, 2) ^ int(w6, 2))[2:])\n",
        "  w8 = zero_pad(bin(int(w4, 2) ^ int(SubNibbles(w7),2) ^ int(Rcon2, 2))[2:])\n",
        "  w9 = zero_pad(bin(int(w5, 2) ^ int(w8, 2))[2:])\n",
        "  w10 = zero_pad(bin(int(w6, 2) ^ int(w9, 2))[2:])\n",
        "  w11 = zero_pad(bin(int(w7, 2) ^ int(w10, 2))[2:])\n",
        "\n",
        "  K1 = np.array([[w4,w6],[w5,w7]])\n",
        "  K2 = np.array([[w8,w10],[w9,w11]])\n",
        "\n",
        "  KEYS = []\n",
        "  # KEYS.append(K0)\n",
        "  KEYS.append(K1)\n",
        "  KEYS.append(K2)\n",
        "\n",
        "  return KEYS\n"
      ]
    },
    {
      "cell_type": "code",
      "execution_count": 9,
      "metadata": {
        "id": "QJx1tCkz5o14"
      },
      "outputs": [],
      "source": [
        "def binary_to_hex(binary_str):\n",
        "    decimal_int = int(binary_str, 2)\n",
        "    hex_str = hex(decimal_int)[2:]\n",
        "    return hex_str\n",
        "\n",
        "def HexIt(binary_matrix) :\n",
        "  hex = [[binary_to_hex(binary) for binary in row] for row in binary_matrix]\n",
        "  return str(str(hex[0][0]) + str(hex[1][0]) + str(hex[0][1]) + str(hex[1][1]))\n",
        "\n"
      ]
    },
    {
      "cell_type": "code",
      "source": [
        "def SubNibblesInverse(nibble) :\n",
        "    Substitution2 = [\"0000\", \"0001\", \"0010\", \"0011\", \"0100\", \"0101\", \"0110\", \"0111\", \"1000\", \"1001\", \"1010\", \"1011\", \"1100\", \"1101\", \"1110\", \"1111\"]\n",
        "    Substitution1 = [\"1010\", \"0000\", \"1001\", \"1110\", \"0110\", \"0011\", \"1111\", \"0101\", \"0001\", \"1101\", \"1100\", \"0111\", \"1011\", \"0100\", \"0010\", \"1000\"]\n",
        "    ind = Substitution1.index(nibble)\n",
        "    return Substitution2[ind]"
      ],
      "metadata": {
        "id": "VSO4avjnA6p9"
      },
      "execution_count": 10,
      "outputs": []
    },
    {
      "cell_type": "code",
      "source": [
        "def MixColumnsInverse(mat) :\n",
        "  M= [[9,2],\n",
        "      [2,9]]\n",
        "\n",
        "  c0 = int(mat[0][0],2)\n",
        "  c1 = int(mat[1][0],2)\n",
        "  c2 = int(mat[0][1],2)\n",
        "  c3 = int(mat[1][1],2)\n",
        "\n",
        "  d0 = finite_field_multiply(M[0][0], c0) ^ finite_field_multiply(M[0][1], c1)\n",
        "  d1 = finite_field_multiply(M[1][0], c0) ^ finite_field_multiply(M[1][1], c1)\n",
        "  d2 = finite_field_multiply(M[0][0], c2) ^ finite_field_multiply(M[0][1], c3)\n",
        "  d3 = finite_field_multiply(M[1][0], c2) ^ finite_field_multiply(M[1][1], c3)\n",
        "  return np.array([[bin(d0)[2:].zfill(4),bin(d2)[2:].zfill(4)],[bin(d1)[2:].zfill(4),bin(d3)[2:].zfill(4)]])"
      ],
      "metadata": {
        "id": "4j1F7_PQBAil"
      },
      "execution_count": 11,
      "outputs": []
    },
    {
      "cell_type": "code",
      "source": [
        "def SubstituteInverse(matrix):\n",
        "    S = []\n",
        "    for row in matrix:\n",
        "        s1 = []\n",
        "        for element in row:\n",
        "            s1.append(SubNibblesInverse(element))\n",
        "        S.append(s1)\n",
        "    return np.array(S)\n"
      ],
      "metadata": {
        "id": "y1fhJYsSBKSB"
      },
      "execution_count": 12,
      "outputs": []
    },
    {
      "cell_type": "code",
      "source": [
        "def Xor(mat, key) :\n",
        " return np.array([[bin(int(mat[0][0],2) ^ int(key[0][0],2))[2:].zfill(4),  bin(int(mat[0][1],2) ^ int(key[0][1],2))[2:].zfill(4)],[bin(int(mat[1][0],2) ^ int(key[1][0],2))[2:].zfill(4),bin(int(mat[1][1],2) ^ int(key[1][1],2))[2:].zfill(4)]])"
      ],
      "metadata": {
        "id": "mJwD33zqJIIt"
      },
      "execution_count": 13,
      "outputs": []
    },
    {
      "cell_type": "code",
      "source": [
        "def Decrypt(matrix_pt,KEYS) :\n",
        "  #Round1\n",
        "  A = ShiftRows(matrix_pt)\n",
        "  B = Xor(A, KEYS[1])\n",
        "  C = SubstituteInverse(B)\n",
        "\n",
        "  #Round2\n",
        "  D= ShiftRows(C)\n",
        "  E= MixColumnsInverse(D)\n",
        "  F= Xor(E,KEYS[0])\n",
        "\n",
        "  G = SubstituteInverse(F)\n",
        "  return HexIt(G)\n",
        "\n"
      ],
      "metadata": {
        "id": "ekh7O7oENisV"
      },
      "execution_count": 14,
      "outputs": []
    },
    {
      "cell_type": "markdown",
      "source": [
        "<h1>Deliverable#2 MAIN</h1>"
      ],
      "metadata": {
        "id": "AyiALHCgc8TZ"
      }
    },
    {
      "cell_type": "code",
      "execution_count": 18,
      "metadata": {
        "colab": {
          "base_uri": "https://localhost:8080/"
        },
        "id": "eBfC9AEUzeEL",
        "outputId": "d53a187b-6861-4d99-900a-4784ac2824e4"
      },
      "outputs": [
        {
          "output_type": "stream",
          "name": "stdout",
          "text": [
            "Cipher Text : f3d7\n",
            "Enter Key : 40ee\n",
            "e282\n"
          ]
        }
      ],
      "source": [
        "#Deliverable 2 MAIN\n",
        "\n",
        "C_text = str(input(\"Cipher Text : \"))[:4]\n",
        "key =str(input(\"Enter Key : \"))[:4]\n",
        "\n",
        "# plain_text = \"f3d7\"\n",
        "# key =\"40ee\"\n",
        "try :\n",
        "\n",
        "  nibbles_ct = text_to_nibbles(C_text)\n",
        "  nibbles_key = text_to_nibbles(key)\n",
        "\n",
        "  matrix_ct = np.array(arrange_in_matrix(nibbles_ct))\n",
        "  matrix_key = np.array(arrange_in_matrix(nibbles_key))\n",
        "  matrix_ct_sb = substitute(matrix_ct)\n",
        "\n",
        "  KEYS = GenerateRoundKeys(matrix_key)\n",
        "  print(Decrypt(matrix_ct,KEYS))\n",
        "\n",
        "except:\n",
        "  print(\"Wrong input\")"
      ]
    }
  ]
}